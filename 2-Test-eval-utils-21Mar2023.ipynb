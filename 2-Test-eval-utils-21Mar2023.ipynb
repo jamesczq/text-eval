{
 "cells": [
  {
   "cell_type": "code",
   "execution_count": 1,
   "id": "509ebb1c",
   "metadata": {},
   "outputs": [],
   "source": [
    "import pandas as pd"
   ]
  },
  {
   "cell_type": "markdown",
   "id": "7ef7685e",
   "metadata": {},
   "source": [
    "## Dataset with true vs machine answers \n",
    "where machine answers were already given by GPT models Babbage, Devinci"
   ]
  },
  {
   "cell_type": "code",
   "execution_count": 2,
   "id": "83103b81",
   "metadata": {},
   "outputs": [
    {
     "data": {
      "text/html": [
       "<div>\n",
       "<style scoped>\n",
       "    .dataframe tbody tr th:only-of-type {\n",
       "        vertical-align: middle;\n",
       "    }\n",
       "\n",
       "    .dataframe tbody tr th {\n",
       "        vertical-align: top;\n",
       "    }\n",
       "\n",
       "    .dataframe thead th {\n",
       "        text-align: right;\n",
       "    }\n",
       "</style>\n",
       "<table border=\"1\" class=\"dataframe\">\n",
       "  <thead>\n",
       "    <tr style=\"text-align: right;\">\n",
       "      <th></th>\n",
       "      <th>Context</th>\n",
       "      <th>Question</th>\n",
       "      <th>True Answer</th>\n",
       "      <th>Babbage Answer</th>\n",
       "      <th>Devinci Answer</th>\n",
       "    </tr>\n",
       "  </thead>\n",
       "  <tbody>\n",
       "    <tr>\n",
       "      <th>53</th>\n",
       "      <td>Father Joseph Carrier, C.S.C. was Director of ...</td>\n",
       "      <td>What professorship did Father Josh Carrier hol...</td>\n",
       "      <td>Professor of Chemistry and Physics</td>\n",
       "      <td>Father Josh Carrier held the professorship of ...</td>\n",
       "      <td>Professor of Chemistry and Physics.</td>\n",
       "    </tr>\n",
       "    <tr>\n",
       "      <th>19</th>\n",
       "      <td>The College of Engineering was established in ...</td>\n",
       "      <td>The College of Science began to offer civil en...</td>\n",
       "      <td>the 1870s</td>\n",
       "      <td>The College of Science began to offer civil en...</td>\n",
       "      <td>1870s</td>\n",
       "    </tr>\n",
       "    <tr>\n",
       "      <th>125</th>\n",
       "      <td>Hesburgh is also credited with transforming th...</td>\n",
       "      <td>In what year did Notre Dame have its earliest ...</td>\n",
       "      <td>1971</td>\n",
       "      <td>In 1971 Mary Ann Proctor became the first fema...</td>\n",
       "      <td>1971</td>\n",
       "    </tr>\n",
       "    <tr>\n",
       "      <th>126</th>\n",
       "      <td>Hesburgh is also credited with transforming th...</td>\n",
       "      <td>With what institute did Notre Dame agree to an...</td>\n",
       "      <td>Saint Mary's College</td>\n",
       "      <td>Notre Dame agreed to an exchange program with ...</td>\n",
       "      <td>Saint Mary's College</td>\n",
       "    </tr>\n",
       "    <tr>\n",
       "      <th>49</th>\n",
       "      <td>Father Joseph Carrier, C.S.C. was Director of ...</td>\n",
       "      <td>What person was the Director of the Science Mu...</td>\n",
       "      <td>Father Joseph Carrier, C.S.C.</td>\n",
       "      <td>Father Joseph Carrier, C.S.C.</td>\n",
       "      <td>Father Joseph Carrier, C.S.C.</td>\n",
       "    </tr>\n",
       "  </tbody>\n",
       "</table>\n",
       "</div>"
      ],
      "text/plain": [
       "                                               Context  \\\n",
       "53   Father Joseph Carrier, C.S.C. was Director of ...   \n",
       "19   The College of Engineering was established in ...   \n",
       "125  Hesburgh is also credited with transforming th...   \n",
       "126  Hesburgh is also credited with transforming th...   \n",
       "49   Father Joseph Carrier, C.S.C. was Director of ...   \n",
       "\n",
       "                                              Question  \\\n",
       "53   What professorship did Father Josh Carrier hol...   \n",
       "19   The College of Science began to offer civil en...   \n",
       "125  In what year did Notre Dame have its earliest ...   \n",
       "126  With what institute did Notre Dame agree to an...   \n",
       "49   What person was the Director of the Science Mu...   \n",
       "\n",
       "                            True Answer  \\\n",
       "53   Professor of Chemistry and Physics   \n",
       "19                            the 1870s   \n",
       "125                                1971   \n",
       "126                Saint Mary's College   \n",
       "49        Father Joseph Carrier, C.S.C.   \n",
       "\n",
       "                                        Babbage Answer  \\\n",
       "53   Father Josh Carrier held the professorship of ...   \n",
       "19   The College of Science began to offer civil en...   \n",
       "125  In 1971 Mary Ann Proctor became the first fema...   \n",
       "126  Notre Dame agreed to an exchange program with ...   \n",
       "49                       Father Joseph Carrier, C.S.C.   \n",
       "\n",
       "                          Devinci Answer  \n",
       "53   Professor of Chemistry and Physics.  \n",
       "19                                 1870s  \n",
       "125                                 1971  \n",
       "126                 Saint Mary's College  \n",
       "49         Father Joseph Carrier, C.S.C.  "
      ]
     },
     "execution_count": 2,
     "metadata": {},
     "output_type": "execute_result"
    }
   ],
   "source": [
    "csv = \"data/test_gpt_qa_babbage_davinci_21Mar2023.csv\"\n",
    "df = pd.read_csv(csv)\n",
    "df.sample(5)"
   ]
  },
  {
   "cell_type": "markdown",
   "id": "4facc72e",
   "metadata": {},
   "source": [
    "## Unit tests of text_eval_utils"
   ]
  },
  {
   "cell_type": "code",
   "execution_count": 3,
   "id": "c50d8cf9",
   "metadata": {},
   "outputs": [],
   "source": [
    "import text_eval_utils as tteval"
   ]
  },
  {
   "cell_type": "code",
   "execution_count": 4,
   "id": "af0071b7",
   "metadata": {},
   "outputs": [
    {
     "data": {
      "text/plain": [
       "('U.S. News & World Report',\n",
       " 'The First Year of Studies program was declared \"outstanding\" by U.S. News & World Report in their 2018 guide to undergraduate colleges.',\n",
       " 'U.S. News & World Report.')"
      ]
     },
     "execution_count": 4,
     "metadata": {},
     "output_type": "execute_result"
    }
   ],
   "source": [
    "J = 23\n",
    "a = df.iloc[J]['True Answer']\n",
    "a_babbage = df.iloc[J]['Babbage Answer']\n",
    "a_devinci = df.iloc[J]['Devinci Answer']\n",
    "\n",
    "a, a_babbage, a_devinci"
   ]
  },
  {
   "cell_type": "code",
   "execution_count": 5,
   "id": "1f1a51a9",
   "metadata": {},
   "outputs": [
    {
     "data": {
      "text/plain": [
       "(0.2608695652173913, 1.0, 0.41379310016646853)"
      ]
     },
     "execution_count": 5,
     "metadata": {},
     "output_type": "execute_result"
    }
   ],
   "source": [
    "babbage_scores = tteval.PrecisionRecallF1(machine_answer=a_babbage, true_answer=a)\n",
    "babbage_scores.precision, babbage_scores.recall, babbage_scores.f1"
   ]
  },
  {
   "cell_type": "code",
   "execution_count": 6,
   "id": "c43ed30b",
   "metadata": {},
   "outputs": [
    {
     "data": {
      "text/plain": [
       "(1.0, 1.0, 0.999999995)"
      ]
     },
     "execution_count": 6,
     "metadata": {},
     "output_type": "execute_result"
    }
   ],
   "source": [
    "devinci_scores = tteval.PrecisionRecallF1(machine_answer=a_devinci, true_answer=a)\n",
    "devinci_scores.precision, devinci_scores.recall, devinci_scores.f1"
   ]
  },
  {
   "cell_type": "code",
   "execution_count": 7,
   "id": "eb50c73f",
   "metadata": {},
   "outputs": [],
   "source": [
    "scores = tteval.get_batch_metrics(\n",
    "    array_machine_answers=df[\"Babbage Answer\"],\n",
    "    array_true_answers=df['True Answer']\n",
    ")\n",
    "\n",
    "df[\"Babbage Answer Precision\"] = scores['precision']\n",
    "df[\"Babbage Answer Recall\"] = scores['recall']\n",
    "df[\"Babbage Answer F1\"] = scores['f1']"
   ]
  },
  {
   "cell_type": "code",
   "execution_count": 8,
   "id": "8d731aec",
   "metadata": {},
   "outputs": [],
   "source": [
    "scores = tteval.get_batch_metrics(\n",
    "    array_machine_answers=df[\"Devinci Answer\"],\n",
    "    array_true_answers=df['True Answer']\n",
    ")\n",
    "\n",
    "df[\"Devinci Answer Precision\"] = scores['precision']\n",
    "df[\"Devinci Answer Recall\"] = scores['recall']\n",
    "df[\"Devinci Answer F1\"] = scores['f1']"
   ]
  },
  {
   "cell_type": "code",
   "execution_count": 9,
   "id": "8e4459b5",
   "metadata": {},
   "outputs": [
    {
     "data": {
      "text/html": [
       "<div>\n",
       "<style scoped>\n",
       "    .dataframe tbody tr th:only-of-type {\n",
       "        vertical-align: middle;\n",
       "    }\n",
       "\n",
       "    .dataframe tbody tr th {\n",
       "        vertical-align: top;\n",
       "    }\n",
       "\n",
       "    .dataframe thead th {\n",
       "        text-align: right;\n",
       "    }\n",
       "</style>\n",
       "<table border=\"1\" class=\"dataframe\">\n",
       "  <thead>\n",
       "    <tr style=\"text-align: right;\">\n",
       "      <th></th>\n",
       "      <th>Context</th>\n",
       "      <th>Question</th>\n",
       "      <th>True Answer</th>\n",
       "      <th>Babbage Answer</th>\n",
       "      <th>Devinci Answer</th>\n",
       "      <th>Babbage Answer Precision</th>\n",
       "      <th>Babbage Answer Recall</th>\n",
       "      <th>Babbage Answer F1</th>\n",
       "      <th>Devinci Answer Precision</th>\n",
       "      <th>Devinci Answer Recall</th>\n",
       "      <th>Devinci Answer F1</th>\n",
       "    </tr>\n",
       "  </thead>\n",
       "  <tbody>\n",
       "    <tr>\n",
       "      <th>103</th>\n",
       "      <td>The success of its football team made Notre Da...</td>\n",
       "      <td>Catholic people identified with Notre Dame, wh...</td>\n",
       "      <td>the Protestant establishment</td>\n",
       "      <td>Catholics rallied around the team and listen t...</td>\n",
       "      <td>Protestantism.</td>\n",
       "      <td>0.107143</td>\n",
       "      <td>1.0</td>\n",
       "      <td>0.193548</td>\n",
       "      <td>0.000000</td>\n",
       "      <td>0.0</td>\n",
       "      <td>0.000000</td>\n",
       "    </tr>\n",
       "    <tr>\n",
       "      <th>124</th>\n",
       "      <td>Hesburgh is also credited with transforming th...</td>\n",
       "      <td>What title did Thomas Blantz have at Notre Dame?</td>\n",
       "      <td>Vice President of Student Affairs</td>\n",
       "      <td>\"Notre Dame's Vice President of Student Affairs.\"</td>\n",
       "      <td>Vice President of Student Affairs</td>\n",
       "      <td>0.625000</td>\n",
       "      <td>1.0</td>\n",
       "      <td>0.769231</td>\n",
       "      <td>1.000000</td>\n",
       "      <td>1.0</td>\n",
       "      <td>1.000000</td>\n",
       "    </tr>\n",
       "    <tr>\n",
       "      <th>125</th>\n",
       "      <td>Hesburgh is also credited with transforming th...</td>\n",
       "      <td>In what year did Notre Dame have its earliest ...</td>\n",
       "      <td>1971</td>\n",
       "      <td>In 1971 Mary Ann Proctor became the first fema...</td>\n",
       "      <td>1971</td>\n",
       "      <td>0.062500</td>\n",
       "      <td>1.0</td>\n",
       "      <td>0.117647</td>\n",
       "      <td>1.000000</td>\n",
       "      <td>1.0</td>\n",
       "      <td>1.000000</td>\n",
       "    </tr>\n",
       "    <tr>\n",
       "      <th>32</th>\n",
       "      <td>The Joan B. Kroc Institute for International P...</td>\n",
       "      <td>To whom was John B. Kroc married?</td>\n",
       "      <td>Ray Kroc</td>\n",
       "      <td>Joan B. Kroc was married to John B. Kroc, the ...</td>\n",
       "      <td>John B. Kroc was married to McDonald's owner R...</td>\n",
       "      <td>0.142857</td>\n",
       "      <td>1.0</td>\n",
       "      <td>0.250000</td>\n",
       "      <td>0.222222</td>\n",
       "      <td>1.0</td>\n",
       "      <td>0.363636</td>\n",
       "    </tr>\n",
       "    <tr>\n",
       "      <th>35</th>\n",
       "      <td>The library system of the university is divide...</td>\n",
       "      <td>What is the name of the main library at Notre ...</td>\n",
       "      <td>Theodore M. Hesburgh Library</td>\n",
       "      <td>The name of the main library at Notre Dame is ...</td>\n",
       "      <td>The Theodore M. Hesburgh Library.</td>\n",
       "      <td>0.285714</td>\n",
       "      <td>1.0</td>\n",
       "      <td>0.444444</td>\n",
       "      <td>0.800000</td>\n",
       "      <td>1.0</td>\n",
       "      <td>0.888889</td>\n",
       "    </tr>\n",
       "  </tbody>\n",
       "</table>\n",
       "</div>"
      ],
      "text/plain": [
       "                                               Context  \\\n",
       "103  The success of its football team made Notre Da...   \n",
       "124  Hesburgh is also credited with transforming th...   \n",
       "125  Hesburgh is also credited with transforming th...   \n",
       "32   The Joan B. Kroc Institute for International P...   \n",
       "35   The library system of the university is divide...   \n",
       "\n",
       "                                              Question  \\\n",
       "103  Catholic people identified with Notre Dame, wh...   \n",
       "124   What title did Thomas Blantz have at Notre Dame?   \n",
       "125  In what year did Notre Dame have its earliest ...   \n",
       "32                   To whom was John B. Kroc married?   \n",
       "35   What is the name of the main library at Notre ...   \n",
       "\n",
       "                           True Answer  \\\n",
       "103       the Protestant establishment   \n",
       "124  Vice President of Student Affairs   \n",
       "125                               1971   \n",
       "32                            Ray Kroc   \n",
       "35        Theodore M. Hesburgh Library   \n",
       "\n",
       "                                        Babbage Answer  \\\n",
       "103  Catholics rallied around the team and listen t...   \n",
       "124  \"Notre Dame's Vice President of Student Affairs.\"   \n",
       "125  In 1971 Mary Ann Proctor became the first fema...   \n",
       "32   Joan B. Kroc was married to John B. Kroc, the ...   \n",
       "35   The name of the main library at Notre Dame is ...   \n",
       "\n",
       "                                        Devinci Answer  \\\n",
       "103                                     Protestantism.   \n",
       "124                  Vice President of Student Affairs   \n",
       "125                                               1971   \n",
       "32   John B. Kroc was married to McDonald's owner R...   \n",
       "35                   The Theodore M. Hesburgh Library.   \n",
       "\n",
       "     Babbage Answer Precision  Babbage Answer Recall  Babbage Answer F1  \\\n",
       "103                  0.107143                    1.0           0.193548   \n",
       "124                  0.625000                    1.0           0.769231   \n",
       "125                  0.062500                    1.0           0.117647   \n",
       "32                   0.142857                    1.0           0.250000   \n",
       "35                   0.285714                    1.0           0.444444   \n",
       "\n",
       "     Devinci Answer Precision  Devinci Answer Recall  Devinci Answer F1  \n",
       "103                  0.000000                    0.0           0.000000  \n",
       "124                  1.000000                    1.0           1.000000  \n",
       "125                  1.000000                    1.0           1.000000  \n",
       "32                   0.222222                    1.0           0.363636  \n",
       "35                   0.800000                    1.0           0.888889  "
      ]
     },
     "execution_count": 9,
     "metadata": {},
     "output_type": "execute_result"
    }
   ],
   "source": [
    "df.sample(5)"
   ]
  },
  {
   "cell_type": "code",
   "execution_count": 10,
   "id": "35ae0602",
   "metadata": {},
   "outputs": [
    {
     "name": "stdout",
     "output_type": "stream",
     "text": [
      "Scores for GPT-Babbage QA:\n",
      "Precision = 0.2491, Recall = 0.7285, F1 = 0.3175\n"
     ]
    }
   ],
   "source": [
    "str_out = f\"Scores for GPT-Babbage QA:\\n\"\n",
    "str_out += f\"Precision = {df['Babbage Answer Precision'].mean():.4f}, Recall = {df['Babbage Answer Recall'].mean():.4f}, F1 = {df['Babbage Answer F1'].mean():.4f}\"\n",
    "print(str_out)"
   ]
  },
  {
   "cell_type": "code",
   "execution_count": 11,
   "id": "32fb9f64",
   "metadata": {},
   "outputs": [
    {
     "name": "stdout",
     "output_type": "stream",
     "text": [
      "Scores for GPT-Devinci QA:\n",
      "Precision = 0.6816, Recall = 0.8327, F1 = 0.7168\n"
     ]
    }
   ],
   "source": [
    "str_out = f\"Scores for GPT-Devinci QA:\\n\"\n",
    "str_out += f\"Precision = {df['Devinci Answer Precision'].mean():.4f}, Recall = {df['Devinci Answer Recall'].mean():.4f}, F1 = {df['Devinci Answer F1'].mean():.4f}\"\n",
    "print(str_out)"
   ]
  },
  {
   "cell_type": "code",
   "execution_count": null,
   "id": "cde5a53e",
   "metadata": {},
   "outputs": [],
   "source": []
  }
 ],
 "metadata": {
  "kernelspec": {
   "display_name": "Python 3 (ipykernel)",
   "language": "python",
   "name": "python3"
  },
  "language_info": {
   "codemirror_mode": {
    "name": "ipython",
    "version": 3
   },
   "file_extension": ".py",
   "mimetype": "text/x-python",
   "name": "python",
   "nbconvert_exporter": "python",
   "pygments_lexer": "ipython3",
   "version": "3.9.16"
  }
 },
 "nbformat": 4,
 "nbformat_minor": 5
}
