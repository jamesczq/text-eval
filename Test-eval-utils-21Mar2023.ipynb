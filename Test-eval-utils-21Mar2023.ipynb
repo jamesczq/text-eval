{
 "cells": [
  {
   "cell_type": "code",
   "execution_count": 1,
   "id": "509ebb1c",
   "metadata": {},
   "outputs": [],
   "source": [
    "import pandas as pd"
   ]
  },
  {
   "attachments": {},
   "cell_type": "markdown",
   "id": "7ef7685e",
   "metadata": {},
   "source": [
    "## Dataset with true vs machine answers \n",
    "where machine answers were already given by GPT models Babbage, Devinci"
   ]
  },
  {
   "cell_type": "code",
   "execution_count": 2,
   "id": "83103b81",
   "metadata": {},
   "outputs": [
    {
     "data": {
      "text/html": [
       "<div>\n",
       "<style scoped>\n",
       "    .dataframe tbody tr th:only-of-type {\n",
       "        vertical-align: middle;\n",
       "    }\n",
       "\n",
       "    .dataframe tbody tr th {\n",
       "        vertical-align: top;\n",
       "    }\n",
       "\n",
       "    .dataframe thead th {\n",
       "        text-align: right;\n",
       "    }\n",
       "</style>\n",
       "<table border=\"1\" class=\"dataframe\">\n",
       "  <thead>\n",
       "    <tr style=\"text-align: right;\">\n",
       "      <th></th>\n",
       "      <th>Context</th>\n",
       "      <th>Question</th>\n",
       "      <th>True Answer</th>\n",
       "      <th>Babbage Answer</th>\n",
       "      <th>Devinci Answer</th>\n",
       "    </tr>\n",
       "  </thead>\n",
       "  <tbody>\n",
       "    <tr>\n",
       "      <th>67</th>\n",
       "      <td>The Review of Politics was founded in 1939 by ...</td>\n",
       "      <td>Thomas Stritch was an editor of which publican...</td>\n",
       "      <td>Review of Politics</td>\n",
       "      <td>Thomas Stritch was an editor of the Review of ...</td>\n",
       "      <td>The Review of Politics from Notre Dame.</td>\n",
       "    </tr>\n",
       "    <tr>\n",
       "      <th>173</th>\n",
       "      <td>The library system also includes branch librar...</td>\n",
       "      <td>In what year did the opening of a theology lib...</td>\n",
       "      <td>2015</td>\n",
       "      <td>The opening of a theology library at Notre Dam...</td>\n",
       "      <td>2015</td>\n",
       "    </tr>\n",
       "    <tr>\n",
       "      <th>193</th>\n",
       "      <td>Besides its prominence in sports, Notre Dame i...</td>\n",
       "      <td>How many individual colleges are part of Notre...</td>\n",
       "      <td>four</td>\n",
       "      <td>There are four colleges that are part of Notre...</td>\n",
       "      <td>Five.</td>\n",
       "    </tr>\n",
       "    <tr>\n",
       "      <th>17</th>\n",
       "      <td>The College of Engineering was established in ...</td>\n",
       "      <td>Before the creation of the College of Engineer...</td>\n",
       "      <td>the College of Science</td>\n",
       "      <td>The College of Science was established in 1870...</td>\n",
       "      <td>The College of Science.</td>\n",
       "    </tr>\n",
       "    <tr>\n",
       "      <th>81</th>\n",
       "      <td>About 80% of undergraduates and 20% of graduat...</td>\n",
       "      <td>What amount of the graduate student body at No...</td>\n",
       "      <td>20%</td>\n",
       "      <td>The majority of the graduate students on campu...</td>\n",
       "      <td>About 20% of the graduate student body at Notr...</td>\n",
       "    </tr>\n",
       "  </tbody>\n",
       "</table>\n",
       "</div>"
      ],
      "text/plain": [
       "                                               Context  \\\n",
       "67   The Review of Politics was founded in 1939 by ...   \n",
       "173  The library system also includes branch librar...   \n",
       "193  Besides its prominence in sports, Notre Dame i...   \n",
       "17   The College of Engineering was established in ...   \n",
       "81   About 80% of undergraduates and 20% of graduat...   \n",
       "\n",
       "                                              Question  \\\n",
       "67   Thomas Stritch was an editor of which publican...   \n",
       "173  In what year did the opening of a theology lib...   \n",
       "193  How many individual colleges are part of Notre...   \n",
       "17   Before the creation of the College of Engineer...   \n",
       "81   What amount of the graduate student body at No...   \n",
       "\n",
       "                True Answer  \\\n",
       "67       Review of Politics   \n",
       "173                    2015   \n",
       "193                    four   \n",
       "17   the College of Science   \n",
       "81                      20%   \n",
       "\n",
       "                                        Babbage Answer  \\\n",
       "67   Thomas Stritch was an editor of the Review of ...   \n",
       "173  The opening of a theology library at Notre Dam...   \n",
       "193  There are four colleges that are part of Notre...   \n",
       "17   The College of Science was established in 1870...   \n",
       "81   The majority of the graduate students on campu...   \n",
       "\n",
       "                                        Devinci Answer  \n",
       "67             The Review of Politics from Notre Dame.  \n",
       "173                                               2015  \n",
       "193                                              Five.  \n",
       "17                             The College of Science.  \n",
       "81   About 20% of the graduate student body at Notr...  "
      ]
     },
     "execution_count": 2,
     "metadata": {},
     "output_type": "execute_result"
    }
   ],
   "source": [
    "csv = \"data/test_gpt_qa_babbage_davinci_21Mar2023.csv\"\n",
    "df = pd.read_csv(csv)\n",
    "df.sample(5)"
   ]
  },
  {
   "attachments": {},
   "cell_type": "markdown",
   "id": "4facc72e",
   "metadata": {},
   "source": [
    "## Unit tests of text_eval_utils"
   ]
  },
  {
   "cell_type": "code",
   "execution_count": 3,
   "id": "c50d8cf9",
   "metadata": {},
   "outputs": [],
   "source": [
    "import text_eval_utils as tteval"
   ]
  },
  {
   "cell_type": "code",
   "execution_count": 4,
   "id": "af0071b7",
   "metadata": {},
   "outputs": [
    {
     "data": {
      "text/plain": [
       "('U.S. News & World Report',\n",
       " 'The First Year of Studies program was declared \"outstanding\" by U.S. News & World Report in their 2018 guide to undergraduate colleges.',\n",
       " 'U.S. News & World Report.')"
      ]
     },
     "execution_count": 4,
     "metadata": {},
     "output_type": "execute_result"
    }
   ],
   "source": [
    "J = 23\n",
    "a = df.iloc[J]['True Answer']\n",
    "a_babbage = df.iloc[J]['Babbage Answer']\n",
    "a_devinci = df.iloc[J]['Devinci Answer']\n",
    "\n",
    "a, a_babbage, a_devinci"
   ]
  },
  {
   "cell_type": "code",
   "execution_count": 5,
   "id": "1f1a51a9",
   "metadata": {},
   "outputs": [
    {
     "data": {
      "text/plain": [
       "(0.2608695652173913, 1.0, 0.41379310016646853)"
      ]
     },
     "execution_count": 5,
     "metadata": {},
     "output_type": "execute_result"
    }
   ],
   "source": [
    "babbage_scores = tteval.PrecisionRecallF1(machine_answer=a_babbage, true_answer=a)\n",
    "babbage_scores.precision, babbage_scores.recall, babbage_scores.f1"
   ]
  },
  {
   "cell_type": "code",
   "execution_count": 6,
   "id": "c43ed30b",
   "metadata": {},
   "outputs": [
    {
     "data": {
      "text/plain": [
       "(1.0, 1.0, 0.999999995)"
      ]
     },
     "execution_count": 6,
     "metadata": {},
     "output_type": "execute_result"
    }
   ],
   "source": [
    "devinci_scores = tteval.PrecisionRecallF1(machine_answer=a_devinci, true_answer=a)\n",
    "devinci_scores.precision, devinci_scores.recall, devinci_scores.f1"
   ]
  },
  {
   "cell_type": "code",
   "execution_count": 7,
   "id": "eb50c73f",
   "metadata": {},
   "outputs": [],
   "source": [
    "scores = tteval.get_batch_metrics(\n",
    "    array_machine_answers=df[\"Babbage Answer\"],\n",
    "    array_true_answers=df['True Answer']\n",
    ")\n",
    "\n",
    "df[\"Babbage Answer Precision\"] = scores['precision']\n",
    "df[\"Babbage Answer Recall\"] = scores['recall']\n",
    "df[\"Babbage Answer F1\"] = scores['f1']"
   ]
  },
  {
   "cell_type": "code",
   "execution_count": 8,
   "id": "8d731aec",
   "metadata": {},
   "outputs": [],
   "source": [
    "scores = tteval.get_batch_metrics(\n",
    "    array_machine_answers=df[\"Devinci Answer\"],\n",
    "    array_true_answers=df['True Answer']\n",
    ")\n",
    "\n",
    "df[\"Devinci Answer Precision\"] = scores['precision']\n",
    "df[\"Devinci Answer Recall\"] = scores['recall']\n",
    "df[\"Devinci Answer F1\"] = scores['f1']"
   ]
  },
  {
   "cell_type": "code",
   "execution_count": 9,
   "id": "8e4459b5",
   "metadata": {},
   "outputs": [
    {
     "data": {
      "text/html": [
       "<div>\n",
       "<style scoped>\n",
       "    .dataframe tbody tr th:only-of-type {\n",
       "        vertical-align: middle;\n",
       "    }\n",
       "\n",
       "    .dataframe tbody tr th {\n",
       "        vertical-align: top;\n",
       "    }\n",
       "\n",
       "    .dataframe thead th {\n",
       "        text-align: right;\n",
       "    }\n",
       "</style>\n",
       "<table border=\"1\" class=\"dataframe\">\n",
       "  <thead>\n",
       "    <tr style=\"text-align: right;\">\n",
       "      <th></th>\n",
       "      <th>Context</th>\n",
       "      <th>Question</th>\n",
       "      <th>True Answer</th>\n",
       "      <th>Babbage Answer</th>\n",
       "      <th>Devinci Answer</th>\n",
       "      <th>Babbage Answer Precision</th>\n",
       "      <th>Babbage Answer Recall</th>\n",
       "      <th>Babbage Answer F1</th>\n",
       "      <th>Devinci Answer Precision</th>\n",
       "      <th>Devinci Answer Recall</th>\n",
       "      <th>Devinci Answer F1</th>\n",
       "    </tr>\n",
       "  </thead>\n",
       "  <tbody>\n",
       "    <tr>\n",
       "      <th>61</th>\n",
       "      <td>The Lobund Institute grew out of pioneering re...</td>\n",
       "      <td>In what year did Lobund at Notre Dame become a...</td>\n",
       "      <td>1950</td>\n",
       "      <td>Lobund at Notre Dame became an Institute in 1958.</td>\n",
       "      <td>1950</td>\n",
       "      <td>0.000000</td>\n",
       "      <td>0.0</td>\n",
       "      <td>0.000000</td>\n",
       "      <td>1.000000</td>\n",
       "      <td>1.0</td>\n",
       "      <td>1.000000</td>\n",
       "    </tr>\n",
       "    <tr>\n",
       "      <th>41</th>\n",
       "      <td>Notre Dame is known for its competitive admiss...</td>\n",
       "      <td>Where does Notre Dame rank in terms of academi...</td>\n",
       "      <td>the top 10 to 15 in the nation</td>\n",
       "      <td>Notre Dame is known for its competitive admiss...</td>\n",
       "      <td>Among the top 10 to 15 in the nation for natio...</td>\n",
       "      <td>0.175000</td>\n",
       "      <td>1.0</td>\n",
       "      <td>0.297872</td>\n",
       "      <td>0.583333</td>\n",
       "      <td>1.0</td>\n",
       "      <td>0.736842</td>\n",
       "    </tr>\n",
       "    <tr>\n",
       "      <th>169</th>\n",
       "      <td>The College of Science was established at the ...</td>\n",
       "      <td>How many undergrad students attend the College...</td>\n",
       "      <td>over 1,200</td>\n",
       "      <td>1,200 undergraduate students attend the Colleg...</td>\n",
       "      <td>Over 1,200 undergraduates.</td>\n",
       "      <td>0.083333</td>\n",
       "      <td>0.5</td>\n",
       "      <td>0.142857</td>\n",
       "      <td>0.333333</td>\n",
       "      <td>0.5</td>\n",
       "      <td>0.400000</td>\n",
       "    </tr>\n",
       "    <tr>\n",
       "      <th>144</th>\n",
       "      <td>A Science Hall was built in 1883 under the dir...</td>\n",
       "      <td>After which individual was the LaFortune Cente...</td>\n",
       "      <td>Joseph LaFortune</td>\n",
       "      <td>Joseph LaFortune, an oil executive from Tulsa,...</td>\n",
       "      <td>Joseph LaFortune, an oil executive from Tulsa,...</td>\n",
       "      <td>0.125000</td>\n",
       "      <td>0.5</td>\n",
       "      <td>0.200000</td>\n",
       "      <td>0.125000</td>\n",
       "      <td>0.5</td>\n",
       "      <td>0.200000</td>\n",
       "    </tr>\n",
       "    <tr>\n",
       "      <th>138</th>\n",
       "      <td>Because of its Catholic identity, a number of ...</td>\n",
       "      <td>What structure is found on the location of the...</td>\n",
       "      <td>Basilica of the Sacred Heart</td>\n",
       "      <td>The Old College building, which became one of ...</td>\n",
       "      <td>The current Basilica of the Sacred Heart.</td>\n",
       "      <td>0.111111</td>\n",
       "      <td>0.4</td>\n",
       "      <td>0.173913</td>\n",
       "      <td>0.714286</td>\n",
       "      <td>1.0</td>\n",
       "      <td>0.833333</td>\n",
       "    </tr>\n",
       "  </tbody>\n",
       "</table>\n",
       "</div>"
      ],
      "text/plain": [
       "                                               Context  \\\n",
       "61   The Lobund Institute grew out of pioneering re...   \n",
       "41   Notre Dame is known for its competitive admiss...   \n",
       "169  The College of Science was established at the ...   \n",
       "144  A Science Hall was built in 1883 under the dir...   \n",
       "138  Because of its Catholic identity, a number of ...   \n",
       "\n",
       "                                              Question  \\\n",
       "61   In what year did Lobund at Notre Dame become a...   \n",
       "41   Where does Notre Dame rank in terms of academi...   \n",
       "169  How many undergrad students attend the College...   \n",
       "144  After which individual was the LaFortune Cente...   \n",
       "138  What structure is found on the location of the...   \n",
       "\n",
       "                        True Answer  \\\n",
       "61                             1950   \n",
       "41   the top 10 to 15 in the nation   \n",
       "169                      over 1,200   \n",
       "144                Joseph LaFortune   \n",
       "138    Basilica of the Sacred Heart   \n",
       "\n",
       "                                        Babbage Answer  \\\n",
       "61   Lobund at Notre Dame became an Institute in 1958.   \n",
       "41   Notre Dame is known for its competitive admiss...   \n",
       "169  1,200 undergraduate students attend the Colleg...   \n",
       "144  Joseph LaFortune, an oil executive from Tulsa,...   \n",
       "138  The Old College building, which became one of ...   \n",
       "\n",
       "                                        Devinci Answer  \\\n",
       "61                                                1950   \n",
       "41   Among the top 10 to 15 in the nation for natio...   \n",
       "169                         Over 1,200 undergraduates.   \n",
       "144  Joseph LaFortune, an oil executive from Tulsa,...   \n",
       "138          The current Basilica of the Sacred Heart.   \n",
       "\n",
       "     Babbage Answer Precision  Babbage Answer Recall  Babbage Answer F1  \\\n",
       "61                   0.000000                    0.0           0.000000   \n",
       "41                   0.175000                    1.0           0.297872   \n",
       "169                  0.083333                    0.5           0.142857   \n",
       "144                  0.125000                    0.5           0.200000   \n",
       "138                  0.111111                    0.4           0.173913   \n",
       "\n",
       "     Devinci Answer Precision  Devinci Answer Recall  Devinci Answer F1  \n",
       "61                   1.000000                    1.0           1.000000  \n",
       "41                   0.583333                    1.0           0.736842  \n",
       "169                  0.333333                    0.5           0.400000  \n",
       "144                  0.125000                    0.5           0.200000  \n",
       "138                  0.714286                    1.0           0.833333  "
      ]
     },
     "execution_count": 9,
     "metadata": {},
     "output_type": "execute_result"
    }
   ],
   "source": [
    "df.sample(5)"
   ]
  },
  {
   "cell_type": "code",
   "execution_count": 10,
   "id": "35ae0602",
   "metadata": {},
   "outputs": [
    {
     "name": "stdout",
     "output_type": "stream",
     "text": [
      "Scores for GPT-Babbage QA:\n",
      "Precision = 0.7285, Recall = 0.2491, F1 = 0.3175\n"
     ]
    }
   ],
   "source": [
    "str_out = f\"Scores for GPT-Babbage QA:\\n\"\n",
    "str_out += f\"Precision = {df['Babbage Answer Recall'].mean():.4f}, Recall = {df['Babbage Answer Precision'].mean():.4f}, F1 = {df['Babbage Answer F1'].mean():.4f}\"\n",
    "print(str_out)"
   ]
  },
  {
   "cell_type": "code",
   "execution_count": 11,
   "id": "32fb9f64",
   "metadata": {},
   "outputs": [
    {
     "name": "stdout",
     "output_type": "stream",
     "text": [
      "Scores for GPT-Devinci QA:\n",
      "Precision = 0.8327, Recall = 0.6816, F1 = 0.7168\n"
     ]
    }
   ],
   "source": [
    "str_out = f\"Scores for GPT-Devinci QA:\\n\"\n",
    "str_out += f\"Precision = {df['Devinci Answer Recall'].mean():.4f}, Recall = {df['Devinci Answer Precision'].mean():.4f}, F1 = {df['Devinci Answer F1'].mean():.4f}\"\n",
    "print(str_out)"
   ]
  },
  {
   "cell_type": "code",
   "execution_count": null,
   "id": "cde5a53e",
   "metadata": {},
   "outputs": [],
   "source": []
  }
 ],
 "metadata": {
  "kernelspec": {
   "display_name": "Python 3 (ipykernel)",
   "language": "python",
   "name": "python3"
  },
  "language_info": {
   "codemirror_mode": {
    "name": "ipython",
    "version": 3
   },
   "file_extension": ".py",
   "mimetype": "text/x-python",
   "name": "python",
   "nbconvert_exporter": "python",
   "pygments_lexer": "ipython3",
   "version": "3.9.16"
  }
 },
 "nbformat": 4,
 "nbformat_minor": 5
}
